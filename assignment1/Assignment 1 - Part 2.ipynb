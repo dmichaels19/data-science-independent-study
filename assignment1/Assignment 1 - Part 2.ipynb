{
 "cells": [
  {
   "cell_type": "code",
   "execution_count": 58,
   "metadata": {
    "collapsed": true
   },
   "outputs": [],
   "source": [
    "import pandas as pd\n",
    "import os\n",
    "import matplotlib.pyplot as plt\n",
    "import numpy as np"
   ]
  },
  {
   "cell_type": "code",
   "execution_count": 131,
   "metadata": {
    "collapsed": true
   },
   "outputs": [],
   "source": [
    "nyt_folder = \"./dds_ch2_nyt/\"\n",
    "dirs = os.listdir(nyt_folder)\n",
    "dirs = [nyt_folder + dir for dir in dirs]\n",
    "\n",
    "FEMALE = 0\n",
    "MALE = 1"
   ]
  },
  {
   "cell_type": "code",
   "execution_count": 3,
   "metadata": {
    "collapsed": true
   },
   "outputs": [],
   "source": [
    "dataframes_from_folder = []\n",
    "for i, d in enumerate(dirs):\n",
    "    dataframes_from_folder.append( pd.read_csv(d) )\n",
    "    dataframes_from_folder[i]['Day'] = pd.Series(['Day ' + str(i)] * dataframes_from_folder[i].shape[0])\n",
    "\n",
    "\n",
    "nyt_dataframe = pd.concat(dataframes_from_folder, ignore_index=True)"
   ]
  },
  {
   "cell_type": "code",
   "execution_count": 4,
   "metadata": {},
   "outputs": [
    {
     "data": {
      "text/html": [
       "<div>\n",
       "<style>\n",
       "    .dataframe thead tr:only-child th {\n",
       "        text-align: right;\n",
       "    }\n",
       "\n",
       "    .dataframe thead th {\n",
       "        text-align: left;\n",
       "    }\n",
       "\n",
       "    .dataframe tbody tr th {\n",
       "        vertical-align: top;\n",
       "    }\n",
       "</style>\n",
       "<table border=\"1\" class=\"dataframe\">\n",
       "  <thead>\n",
       "    <tr style=\"text-align: right;\">\n",
       "      <th></th>\n",
       "      <th>Age</th>\n",
       "      <th>Gender</th>\n",
       "      <th>Impressions</th>\n",
       "      <th>Clicks</th>\n",
       "      <th>Signed_In</th>\n",
       "    </tr>\n",
       "  </thead>\n",
       "  <tbody>\n",
       "    <tr>\n",
       "      <th>count</th>\n",
       "      <td>1.490586e+07</td>\n",
       "      <td>1.490586e+07</td>\n",
       "      <td>1.490586e+07</td>\n",
       "      <td>1.490586e+07</td>\n",
       "      <td>1.490586e+07</td>\n",
       "    </tr>\n",
       "    <tr>\n",
       "      <th>mean</th>\n",
       "      <td>2.624252e+01</td>\n",
       "      <td>3.230724e-01</td>\n",
       "      <td>4.999513e+00</td>\n",
       "      <td>9.773120e-02</td>\n",
       "      <td>6.233959e-01</td>\n",
       "    </tr>\n",
       "    <tr>\n",
       "      <th>std</th>\n",
       "      <td>2.412916e+01</td>\n",
       "      <td>4.676501e-01</td>\n",
       "      <td>2.235805e+00</td>\n",
       "      <td>3.189982e-01</td>\n",
       "      <td>4.845343e-01</td>\n",
       "    </tr>\n",
       "    <tr>\n",
       "      <th>min</th>\n",
       "      <td>0.000000e+00</td>\n",
       "      <td>0.000000e+00</td>\n",
       "      <td>0.000000e+00</td>\n",
       "      <td>0.000000e+00</td>\n",
       "      <td>0.000000e+00</td>\n",
       "    </tr>\n",
       "    <tr>\n",
       "      <th>25%</th>\n",
       "      <td>0.000000e+00</td>\n",
       "      <td>0.000000e+00</td>\n",
       "      <td>3.000000e+00</td>\n",
       "      <td>0.000000e+00</td>\n",
       "      <td>0.000000e+00</td>\n",
       "    </tr>\n",
       "    <tr>\n",
       "      <th>50%</th>\n",
       "      <td>2.600000e+01</td>\n",
       "      <td>0.000000e+00</td>\n",
       "      <td>5.000000e+00</td>\n",
       "      <td>0.000000e+00</td>\n",
       "      <td>1.000000e+00</td>\n",
       "    </tr>\n",
       "    <tr>\n",
       "      <th>75%</th>\n",
       "      <td>4.600000e+01</td>\n",
       "      <td>1.000000e+00</td>\n",
       "      <td>6.000000e+00</td>\n",
       "      <td>0.000000e+00</td>\n",
       "      <td>1.000000e+00</td>\n",
       "    </tr>\n",
       "    <tr>\n",
       "      <th>max</th>\n",
       "      <td>1.150000e+02</td>\n",
       "      <td>1.000000e+00</td>\n",
       "      <td>2.100000e+01</td>\n",
       "      <td>6.000000e+00</td>\n",
       "      <td>1.000000e+00</td>\n",
       "    </tr>\n",
       "  </tbody>\n",
       "</table>\n",
       "</div>"
      ],
      "text/plain": [
       "                Age        Gender   Impressions        Clicks     Signed_In\n",
       "count  1.490586e+07  1.490586e+07  1.490586e+07  1.490586e+07  1.490586e+07\n",
       "mean   2.624252e+01  3.230724e-01  4.999513e+00  9.773120e-02  6.233959e-01\n",
       "std    2.412916e+01  4.676501e-01  2.235805e+00  3.189982e-01  4.845343e-01\n",
       "min    0.000000e+00  0.000000e+00  0.000000e+00  0.000000e+00  0.000000e+00\n",
       "25%    0.000000e+00  0.000000e+00  3.000000e+00  0.000000e+00  0.000000e+00\n",
       "50%    2.600000e+01  0.000000e+00  5.000000e+00  0.000000e+00  1.000000e+00\n",
       "75%    4.600000e+01  1.000000e+00  6.000000e+00  0.000000e+00  1.000000e+00\n",
       "max    1.150000e+02  1.000000e+00  2.100000e+01  6.000000e+00  1.000000e+00"
      ]
     },
     "execution_count": 4,
     "metadata": {},
     "output_type": "execute_result"
    }
   ],
   "source": [
    "nyt_dataframe.describe()"
   ]
  },
  {
   "cell_type": "code",
   "execution_count": 5,
   "metadata": {},
   "outputs": [
    {
     "data": {
      "text/html": [
       "<div>\n",
       "<style>\n",
       "    .dataframe thead tr:only-child th {\n",
       "        text-align: right;\n",
       "    }\n",
       "\n",
       "    .dataframe thead th {\n",
       "        text-align: left;\n",
       "    }\n",
       "\n",
       "    .dataframe tbody tr th {\n",
       "        vertical-align: top;\n",
       "    }\n",
       "</style>\n",
       "<table border=\"1\" class=\"dataframe\">\n",
       "  <thead>\n",
       "    <tr style=\"text-align: right;\">\n",
       "      <th></th>\n",
       "      <th>Age</th>\n",
       "      <th>Gender</th>\n",
       "      <th>Impressions</th>\n",
       "      <th>Clicks</th>\n",
       "      <th>Signed_In</th>\n",
       "      <th>Day</th>\n",
       "    </tr>\n",
       "  </thead>\n",
       "  <tbody>\n",
       "    <tr>\n",
       "      <th>0</th>\n",
       "      <td>36</td>\n",
       "      <td>0</td>\n",
       "      <td>3</td>\n",
       "      <td>0</td>\n",
       "      <td>1</td>\n",
       "      <td>Day 0</td>\n",
       "    </tr>\n",
       "    <tr>\n",
       "      <th>1</th>\n",
       "      <td>73</td>\n",
       "      <td>1</td>\n",
       "      <td>3</td>\n",
       "      <td>0</td>\n",
       "      <td>1</td>\n",
       "      <td>Day 0</td>\n",
       "    </tr>\n",
       "    <tr>\n",
       "      <th>2</th>\n",
       "      <td>30</td>\n",
       "      <td>0</td>\n",
       "      <td>3</td>\n",
       "      <td>0</td>\n",
       "      <td>1</td>\n",
       "      <td>Day 0</td>\n",
       "    </tr>\n",
       "    <tr>\n",
       "      <th>3</th>\n",
       "      <td>49</td>\n",
       "      <td>1</td>\n",
       "      <td>3</td>\n",
       "      <td>0</td>\n",
       "      <td>1</td>\n",
       "      <td>Day 0</td>\n",
       "    </tr>\n",
       "    <tr>\n",
       "      <th>4</th>\n",
       "      <td>47</td>\n",
       "      <td>1</td>\n",
       "      <td>11</td>\n",
       "      <td>0</td>\n",
       "      <td>1</td>\n",
       "      <td>Day 0</td>\n",
       "    </tr>\n",
       "  </tbody>\n",
       "</table>\n",
       "</div>"
      ],
      "text/plain": [
       "   Age  Gender  Impressions  Clicks  Signed_In    Day\n",
       "0   36       0            3       0          1  Day 0\n",
       "1   73       1            3       0          1  Day 0\n",
       "2   30       0            3       0          1  Day 0\n",
       "3   49       1            3       0          1  Day 0\n",
       "4   47       1           11       0          1  Day 0"
      ]
     },
     "execution_count": 5,
     "metadata": {},
     "output_type": "execute_result"
    }
   ],
   "source": [
    "nyt_dataframe.head()"
   ]
  },
  {
   "cell_type": "markdown",
   "metadata": {},
   "source": [
    "### 1. Insert Age Group"
   ]
  },
  {
   "cell_type": "code",
   "execution_count": 105,
   "metadata": {},
   "outputs": [],
   "source": [
    "\n",
    "age_group_list = []\n",
    "\n",
    "for age in nyt_dataframe.Age:\n",
    "    age_group_list.append(int(age))\n"
   ]
  },
  {
   "cell_type": "code",
   "execution_count": 106,
   "metadata": {},
   "outputs": [
    {
     "data": {
      "text/html": [
       "<div>\n",
       "<style>\n",
       "    .dataframe thead tr:only-child th {\n",
       "        text-align: right;\n",
       "    }\n",
       "\n",
       "    .dataframe thead th {\n",
       "        text-align: left;\n",
       "    }\n",
       "\n",
       "    .dataframe tbody tr th {\n",
       "        vertical-align: top;\n",
       "    }\n",
       "</style>\n",
       "<table border=\"1\" class=\"dataframe\">\n",
       "  <thead>\n",
       "    <tr style=\"text-align: right;\">\n",
       "      <th></th>\n",
       "      <th>Age</th>\n",
       "      <th>Gender</th>\n",
       "      <th>Impressions</th>\n",
       "      <th>Clicks</th>\n",
       "      <th>Signed_In</th>\n",
       "      <th>Day</th>\n",
       "      <th>age_group</th>\n",
       "      <th>clicked</th>\n",
       "      <th>Clicked</th>\n",
       "    </tr>\n",
       "  </thead>\n",
       "  <tbody>\n",
       "    <tr>\n",
       "      <th>0</th>\n",
       "      <td>36</td>\n",
       "      <td>0</td>\n",
       "      <td>3</td>\n",
       "      <td>0</td>\n",
       "      <td>1</td>\n",
       "      <td>Day 0</td>\n",
       "      <td>35-44</td>\n",
       "      <td>No</td>\n",
       "      <td>No</td>\n",
       "    </tr>\n",
       "    <tr>\n",
       "      <th>1</th>\n",
       "      <td>73</td>\n",
       "      <td>1</td>\n",
       "      <td>3</td>\n",
       "      <td>0</td>\n",
       "      <td>1</td>\n",
       "      <td>Day 0</td>\n",
       "      <td>65+</td>\n",
       "      <td>No</td>\n",
       "      <td>No</td>\n",
       "    </tr>\n",
       "    <tr>\n",
       "      <th>2</th>\n",
       "      <td>30</td>\n",
       "      <td>0</td>\n",
       "      <td>3</td>\n",
       "      <td>0</td>\n",
       "      <td>1</td>\n",
       "      <td>Day 0</td>\n",
       "      <td>25-34</td>\n",
       "      <td>No</td>\n",
       "      <td>No</td>\n",
       "    </tr>\n",
       "    <tr>\n",
       "      <th>3</th>\n",
       "      <td>49</td>\n",
       "      <td>1</td>\n",
       "      <td>3</td>\n",
       "      <td>0</td>\n",
       "      <td>1</td>\n",
       "      <td>Day 0</td>\n",
       "      <td>45-54</td>\n",
       "      <td>No</td>\n",
       "      <td>No</td>\n",
       "    </tr>\n",
       "    <tr>\n",
       "      <th>4</th>\n",
       "      <td>47</td>\n",
       "      <td>1</td>\n",
       "      <td>11</td>\n",
       "      <td>0</td>\n",
       "      <td>1</td>\n",
       "      <td>Day 0</td>\n",
       "      <td>45-54</td>\n",
       "      <td>No</td>\n",
       "      <td>No</td>\n",
       "    </tr>\n",
       "  </tbody>\n",
       "</table>\n",
       "</div>"
      ],
      "text/plain": [
       "   Age  Gender  Impressions  Clicks  Signed_In    Day age_group clicked  \\\n",
       "0   36       0            3       0          1  Day 0     35-44      No   \n",
       "1   73       1            3       0          1  Day 0       65+      No   \n",
       "2   30       0            3       0          1  Day 0     25-34      No   \n",
       "3   49       1            3       0          1  Day 0     45-54      No   \n",
       "4   47       1           11       0          1  Day 0     45-54      No   \n",
       "\n",
       "  Clicked  \n",
       "0      No  \n",
       "1      No  \n",
       "2      No  \n",
       "3      No  \n",
       "4      No  "
      ]
     },
     "execution_count": 106,
     "metadata": {},
     "output_type": "execute_result"
    }
   ],
   "source": [
    "def map_to_age_group(age):\n",
    "    if age < 18:\n",
    "        return \"<18\"\n",
    "    elif age <= 25:\n",
    "        return \"18-24\"\n",
    "    elif age <= 34:\n",
    "        return \"25-34\"\n",
    "    elif age <= 44:\n",
    "        return \"35-44\"\n",
    "    elif age <= 54:\n",
    "        return \"45-54\"\n",
    "    elif age <= 64:\n",
    "        return \"55-64\"\n",
    "    else:\n",
    "        return \"65+\"\n",
    "\n",
    "age_group_list = map(map_to_age_group, age_group_list)\n",
    "nyt_dataframe['age_group'] = pd.Series(age_group_list)\n",
    "nyt_dataframe.head()"
   ]
  },
  {
   "cell_type": "markdown",
   "metadata": {
    "collapsed": true
   },
   "source": [
    "## 2. For a single Day..."
   ]
  },
  {
   "cell_type": "code",
   "execution_count": 107,
   "metadata": {
    "collapsed": true
   },
   "outputs": [],
   "source": [
    "day_0 = nyt_dataframe[nyt_dataframe.Day == \"Day 0\"]"
   ]
  },
  {
   "cell_type": "markdown",
   "metadata": {},
   "source": [
    "### a. Plot the distribution of number impressions and click-through-rate (CTR=#clicks/#impressions) for these six age categories.\n",
    "\n",
    "We'll be dealing with Clicks instead of Click Through Rate since I was having problems graphing the CTR. However, as you can see, the CTR is almost always 0."
   ]
  },
  {
   "cell_type": "code",
   "execution_count": 108,
   "metadata": {},
   "outputs": [
    {
     "data": {
      "image/png": "[encoded data removed]",
      "text/plain": [
       "<matplotlib.figure.Figure at 0x16f96a050>"
      ]
     },
     "metadata": {},
     "output_type": "display_data"
    }
   ],
   "source": [
    "\n",
    "\n",
    "impressions = day_0.Impressions\n",
    "clicks = day_0.Clicks\n",
    "CTR = (clicks / impressions) * 100\n",
    "CTR =  CTR.tolist()\n",
    "\n",
    "plt.figure(figsize=(10,5))\n",
    "\n",
    "#Click Through Rate\n",
    "\n",
    "plt.subplot(121)\n",
    "plt.title(\"Clicks\")\n",
    "plt.boxplot([clicks])\n",
    "plt.subplot(122)\n",
    "plt.title(\"Clicks\")\n",
    "plt.hist([clicks])\n",
    "plt.show()\n"
   ]
  },
  {
   "cell_type": "code",
   "execution_count": 109,
   "metadata": {},
   "outputs": [
    {
     "data": {
      "image/png": "[encoded data removed]",
      "text/plain": [
       "<matplotlib.figure.Figure at 0x170e09350>"
      ]
     },
     "metadata": {},
     "output_type": "display_data"
    }
   ],
   "source": [
    "plt.figure(figsize=(20,10))\n",
    "\n",
    "#Impressions\n",
    "plt.subplot(121)\n",
    "plt.title(\"Impressions\")\n",
    "plt.boxplot([impressions])\n",
    "plt.subplot(122)\n",
    "plt.title(\"Impressions\")\n",
    "plt.hist([impressions])\n",
    "plt.show()"
   ]
  },
  {
   "cell_type": "markdown",
   "metadata": {},
   "source": [
    "### a. Create clicked variable"
   ]
  },
  {
   "cell_type": "code",
   "execution_count": 110,
   "metadata": {},
   "outputs": [],
   "source": [
    "map_clicks_to_clicked = lambda x: \"Yes\" if x > 0 else \"No\"\n",
    "    \n",
    "\n",
    "clicked_list = map(map_clicks_to_clicked, clicks)\n",
    "\n",
    "nyt_dataframe['Clicked'] = pd.Series(clicked_list)\n",
    "new_day_0 = nyt_dataframe[nyt_dataframe.Day == \"Day 0\"]"
   ]
  },
  {
   "cell_type": "code",
   "execution_count": 111,
   "metadata": {},
   "outputs": [
    {
     "data": {
      "text/plain": [
       "{'18-24', '25-34', '35-44', '45-54', '55-64', '65+', '<18'}"
      ]
     },
     "execution_count": 111,
     "metadata": {},
     "output_type": "execute_result"
    }
   ],
   "source": [
    "set(nyt_dataframe.age_group)"
   ]
  },
  {
   "cell_type": "markdown",
   "metadata": {},
   "source": [
    "#### Graph clicked variable and Age groups"
   ]
  },
  {
   "cell_type": "code",
   "execution_count": 126,
   "metadata": {},
   "outputs": [
    {
     "data": {
      "image/png": "[encoded data removed]",
      "text/plain": [
       "<matplotlib.figure.Figure at 0x174e78690>"
      ]
     },
     "metadata": {},
     "output_type": "display_data"
    }
   ],
   "source": [
    "groups = set(new_day_0.age_group) \n",
    "\n",
    "clicked = []\n",
    "no_clicked = []\n",
    "\n",
    "for group in groups:\n",
    "    subset = new_day_0[new_day_0.age_group == group]\n",
    "    clicked.append( sum(subset.clicked == \"Yes\") ) #/ float(len(subset.clicked) ) )\n",
    "    no_clicked.append( sum(subset.clicked == \"No\") ) #/ float(len(subset.clicked)) )\n",
    "\n",
    "fig, ax = plt.subplots()\n",
    "\n",
    "index = np.arange(len(groups))\n",
    "bar_width = 0.35\n",
    "\n",
    "opacity = 0.4\n",
    "error_config = {'ecolor': '0.3'}\n",
    "\n",
    "rects1 = plt.bar(index, clicked, bar_width,\n",
    "                 alpha=opacity,\n",
    "                 color='b',\n",
    "                 label='Clicked')\n",
    "\n",
    "rects2 = plt.bar(index + bar_width, no_clicked, bar_width,\n",
    "                 alpha=opacity,\n",
    "                 color='r',\n",
    "                 label='Didn\\'t Click')\n",
    "\n",
    "plt.xlabel('Age')\n",
    "plt.ylabel('Number in category')\n",
    "plt.title('Clicked or didn\\'t Click vs. Age')\n",
    "plt.xticks(index + bar_width / 2, (groups))\n",
    "plt.legend()\n",
    "\n",
    "plt.tight_layout()\n",
    "plt.show()"
   ]
  },
  {
   "cell_type": "markdown",
   "metadata": {},
   "source": [
    "#### See how things change when normalized by number of people in each age group"
   ]
  },
  {
   "cell_type": "code",
   "execution_count": 128,
   "metadata": {},
   "outputs": [
    {
     "data": {
      "image/png": "[encoded data removed]",
      "text/plain": [
       "<matplotlib.figure.Figure at 0x170b15c50>"
      ]
     },
     "metadata": {},
     "output_type": "display_data"
    }
   ],
   "source": [
    "groups = set(new_day_0.age_group) \n",
    "\n",
    "clicked = []\n",
    "no_clicked = []\n",
    "\n",
    "for group in groups:\n",
    "    subset = new_day_0[new_day_0.age_group == group]\n",
    "    clicked.append( sum(subset.clicked == \"Yes\") / float(len(subset.clicked) ) )\n",
    "    no_clicked.append( sum(subset.clicked == \"No\") / float(len(subset.clicked)) )\n",
    "\n",
    "fig, ax = plt.subplots()\n",
    "\n",
    "index = np.arange(len(groups))\n",
    "bar_width = 0.35\n",
    "\n",
    "opacity = 0.4\n",
    "error_config = {'ecolor': '0.3'}\n",
    "\n",
    "rects1 = plt.bar(index, clicked, bar_width,\n",
    "                 alpha=opacity,\n",
    "                 color='b',\n",
    "                 label='Clicked')\n",
    "\n",
    "rects2 = plt.bar(index + bar_width, no_clicked, bar_width,\n",
    "                 alpha=opacity,\n",
    "                 color='r',\n",
    "                 label='Didn\\'t Click')\n",
    "\n",
    "plt.xlabel('Age')\n",
    "plt.ylabel('Number in category')\n",
    "plt.title('Clicked or didn\\'t Click vs. Age Normalized')\n",
    "plt.xticks(index + bar_width / 2, (groups))\n",
    "plt.legend()\n",
    "\n",
    "plt.tight_layout()\n",
    "plt.show()"
   ]
  },
  {
   "cell_type": "code",
   "execution_count": 129,
   "metadata": {},
   "outputs": [
    {
     "data": {
      "text/html": [
       "<div>\n",
       "<style>\n",
       "    .dataframe thead tr:only-child th {\n",
       "        text-align: right;\n",
       "    }\n",
       "\n",
       "    .dataframe thead th {\n",
       "        text-align: left;\n",
       "    }\n",
       "\n",
       "    .dataframe tbody tr th {\n",
       "        vertical-align: top;\n",
       "    }\n",
       "</style>\n",
       "<table border=\"1\" class=\"dataframe\">\n",
       "  <thead>\n",
       "    <tr style=\"text-align: right;\">\n",
       "      <th></th>\n",
       "      <th>Age</th>\n",
       "      <th>Gender</th>\n",
       "      <th>Impressions</th>\n",
       "      <th>Clicks</th>\n",
       "      <th>Signed_In</th>\n",
       "    </tr>\n",
       "  </thead>\n",
       "  <tbody>\n",
       "    <tr>\n",
       "      <th>count</th>\n",
       "      <td>458441.000000</td>\n",
       "      <td>458441.000000</td>\n",
       "      <td>458441.000000</td>\n",
       "      <td>458441.000000</td>\n",
       "      <td>458441.000000</td>\n",
       "    </tr>\n",
       "    <tr>\n",
       "      <th>mean</th>\n",
       "      <td>29.482551</td>\n",
       "      <td>0.367037</td>\n",
       "      <td>5.007316</td>\n",
       "      <td>0.092594</td>\n",
       "      <td>0.700930</td>\n",
       "    </tr>\n",
       "    <tr>\n",
       "      <th>std</th>\n",
       "      <td>23.607034</td>\n",
       "      <td>0.481997</td>\n",
       "      <td>2.239349</td>\n",
       "      <td>0.309973</td>\n",
       "      <td>0.457851</td>\n",
       "    </tr>\n",
       "    <tr>\n",
       "      <th>min</th>\n",
       "      <td>0.000000</td>\n",
       "      <td>0.000000</td>\n",
       "      <td>0.000000</td>\n",
       "      <td>0.000000</td>\n",
       "      <td>0.000000</td>\n",
       "    </tr>\n",
       "    <tr>\n",
       "      <th>25%</th>\n",
       "      <td>0.000000</td>\n",
       "      <td>0.000000</td>\n",
       "      <td>3.000000</td>\n",
       "      <td>0.000000</td>\n",
       "      <td>0.000000</td>\n",
       "    </tr>\n",
       "    <tr>\n",
       "      <th>50%</th>\n",
       "      <td>31.000000</td>\n",
       "      <td>0.000000</td>\n",
       "      <td>5.000000</td>\n",
       "      <td>0.000000</td>\n",
       "      <td>1.000000</td>\n",
       "    </tr>\n",
       "    <tr>\n",
       "      <th>75%</th>\n",
       "      <td>48.000000</td>\n",
       "      <td>1.000000</td>\n",
       "      <td>6.000000</td>\n",
       "      <td>0.000000</td>\n",
       "      <td>1.000000</td>\n",
       "    </tr>\n",
       "    <tr>\n",
       "      <th>max</th>\n",
       "      <td>108.000000</td>\n",
       "      <td>1.000000</td>\n",
       "      <td>20.000000</td>\n",
       "      <td>4.000000</td>\n",
       "      <td>1.000000</td>\n",
       "    </tr>\n",
       "  </tbody>\n",
       "</table>\n",
       "</div>"
      ],
      "text/plain": [
       "                 Age         Gender    Impressions         Clicks  \\\n",
       "count  458441.000000  458441.000000  458441.000000  458441.000000   \n",
       "mean       29.482551       0.367037       5.007316       0.092594   \n",
       "std        23.607034       0.481997       2.239349       0.309973   \n",
       "min         0.000000       0.000000       0.000000       0.000000   \n",
       "25%         0.000000       0.000000       3.000000       0.000000   \n",
       "50%        31.000000       0.000000       5.000000       0.000000   \n",
       "75%        48.000000       1.000000       6.000000       0.000000   \n",
       "max       108.000000       1.000000      20.000000       4.000000   \n",
       "\n",
       "           Signed_In  \n",
       "count  458441.000000  \n",
       "mean        0.700930  \n",
       "std         0.457851  \n",
       "min         0.000000  \n",
       "25%         0.000000  \n",
       "50%         1.000000  \n",
       "75%         1.000000  \n",
       "max         1.000000  "
      ]
     },
     "execution_count": 129,
     "metadata": {},
     "output_type": "execute_result"
    }
   ],
   "source": [
    "new_day_0.describe()"
   ]
  },
  {
   "cell_type": "markdown",
   "metadata": {},
   "source": [
    "#### c. Play with other variables"
   ]
  },
  {
   "cell_type": "code",
   "execution_count": 138,
   "metadata": {},
   "outputs": [
    {
     "data": {
      "image/png": "[encoded data removed]",
      "text/plain": [
       "<matplotlib.figure.Figure at 0x115fbe9d0>"
      ]
     },
     "metadata": {},
     "output_type": "display_data"
    }
   ],
   "source": [
    "groups = (FEMALE, MALE) \n",
    "\n",
    "clicked = []\n",
    "no_clicked = []\n",
    "\n",
    "for group in groups:\n",
    "    subset = new_day_0[new_day_0.Gender == group]\n",
    "    clicked.append( sum(subset.clicked == \"Yes\")  )\n",
    "    no_clicked.append( sum(subset.clicked == \"No\") )\n",
    "\n",
    "fig, ax = plt.subplots()\n",
    "\n",
    "index = np.arange(len(groups))\n",
    "bar_width = 0.35\n",
    "\n",
    "opacity = 0.4\n",
    "error_config = {'ecolor': '0.3'}\n",
    "\n",
    "rects1 = plt.bar(index, clicked, bar_width,\n",
    "                 alpha=opacity,\n",
    "                 color='b',\n",
    "                 label='Clicked')\n",
    "\n",
    "rects2 = plt.bar(index + bar_width, no_clicked, bar_width,\n",
    "                 alpha=opacity,\n",
    "                 color='r',\n",
    "                 label='Didn\\'t Click')\n",
    "\n",
    "plt.xlabel('Age')\n",
    "plt.ylabel('Number in category')\n",
    "plt.title('Clicked or didn\\'t Click vs. Sex Normalized')\n",
    "plt.xticks(index + bar_width / 2, (\"M\", \"F\"))\n",
    "plt.legend()\n",
    "\n",
    "plt.tight_layout()\n",
    "plt.show()"
   ]
  },
  {
   "cell_type": "markdown",
   "metadata": {},
   "source": [
    "### Let's try normalizing by the size of the sub-population again..."
   ]
  },
  {
   "cell_type": "code",
   "execution_count": 139,
   "metadata": {},
   "outputs": [
    {
     "data": {
      "image/png": "[encoded data removed]",
      "text/plain": [
       "<matplotlib.figure.Figure at 0x171812710>"
      ]
     },
     "metadata": {},
     "output_type": "display_data"
    }
   ],
   "source": [
    "groups = (FEMALE, MALE) \n",
    "\n",
    "clicked = []\n",
    "no_clicked = []\n",
    "\n",
    "for group in groups:\n",
    "    subset = new_day_0[new_day_0.Gender == group]\n",
    "    clicked.append( sum(subset.clicked == \"Yes\") / float(len(subset.Gender))  )\n",
    "    no_clicked.append( sum(subset.clicked == \"No\") / float(len(subset.Gender)))\n",
    "\n",
    "fig, ax = plt.subplots()\n",
    "\n",
    "index = np.arange(len(groups))\n",
    "bar_width = 0.35\n",
    "\n",
    "opacity = 0.4\n",
    "error_config = {'ecolor': '0.3'}\n",
    "\n",
    "rects1 = plt.bar(index, clicked, bar_width,\n",
    "                 alpha=opacity,\n",
    "                 color='b',\n",
    "                 label='Clicked')\n",
    "\n",
    "rects2 = plt.bar(index + bar_width, no_clicked, bar_width,\n",
    "                 alpha=opacity,\n",
    "                 color='r',\n",
    "                 label='Didn\\'t Click')\n",
    "\n",
    "plt.xlabel('Age')\n",
    "plt.ylabel('Number in category')\n",
    "plt.title('Clicked or didn\\'t Click vs. Sex Normalized')\n",
    "plt.xticks(index + bar_width / 2, (\"M\", \"F\"))\n",
    "plt.legend()\n",
    "\n",
    "plt.tight_layout()\n",
    "plt.show()"
   ]
  },
  {
   "cell_type": "markdown",
   "metadata": {},
   "source": [
    "##### So I'm pretty sure we can conclude that Males under the age of 18 will have the most clicks. But that's also because they are the largest population!!!"
   ]
  },
  {
   "cell_type": "code",
   "execution_count": null,
   "metadata": {
    "collapsed": true
   },
   "outputs": [],
   "source": []
  }
 ],
 "metadata": {
  "kernelspec": {
   "display_name": "Python [default]",
   "language": "python",
   "name": "python2"
  },
  "language_info": {
   "codemirror_mode": {
    "name": "ipython",
    "version": 2
   },
   "file_extension": ".py",
   "mimetype": "text/x-python",
   "name": "python",
   "nbconvert_exporter": "python",
   "pygments_lexer": "ipython2",
   "version": "2.7.13"
  }
 },
 "nbformat": 4,
 "nbformat_minor": 2
}
